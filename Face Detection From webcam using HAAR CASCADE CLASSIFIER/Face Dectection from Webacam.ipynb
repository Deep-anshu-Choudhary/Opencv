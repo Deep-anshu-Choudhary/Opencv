{
 "cells": [
  {
   "cell_type": "markdown",
   "metadata": {},
   "source": [
    "# Face detection from webcam using HAAR Cascade Classifier"
   ]
  },
  {
   "cell_type": "code",
   "execution_count": null,
   "metadata": {},
   "outputs": [],
   "source": [
    "#Importing Required Libraries\n",
    "import cv2 as cv\n",
    "from PIL import Image\n",
    "import io\n",
    "import numpy as np\n",
    "import matplotlib.pyplot as plt\n",
    "\n",
    "\n",
    "# Example of live web cam capture\n",
    "cam=cv.VideoCapture(0)\n",
    "\n",
    "\n",
    "while True:\n",
    "    s,frame=cam.read()     # s->status \n",
    "    \n",
    "    \n",
    "    model=cv.CascadeClassifier(\"haar_frontal.xml\") \n",
    "    img_gray=cv.cvtColor(frame,cv.COLOR_RGB2GRAY)\n",
    "    faces=model.detectMultiScale(img_gray,1.3,5)\n",
    "    x=len(faces)\n",
    "    if x!=0:\n",
    "        for j in range(0,x):    \n",
    "            img=faces[j]\n",
    "            #plt.imshow(img)\n",
    "        \n",
    "        \n",
    "    for i in range(0,x):\n",
    "        \n",
    "        x,y,w,h=faces[i]\n",
    "        cv.rectangle(frame,(x,y),(x+w,y+h),(255,255,255),5)\n",
    "    \n",
    "        \n",
    "    \n",
    "    \n",
    "        \n",
    "    cv.imshow('Facedetection',frame)\n",
    "    \n",
    "    \n",
    "    key=cv.waitKey(1)\n",
    "    if key==ord('q'):\n",
    "        cam.release()\n",
    "        cv.destroyAllWindows()\n",
    "        \n",
    "        break\n",
    "        \n",
    "  "
   ]
  },
  {
   "cell_type": "code",
   "execution_count": null,
   "metadata": {},
   "outputs": [],
   "source": []
  }
 ],
 "metadata": {
  "kernelspec": {
   "display_name": "Python 3",
   "language": "python",
   "name": "python3"
  },
  "language_info": {
   "codemirror_mode": {
    "name": "ipython",
    "version": 3
   },
   "file_extension": ".py",
   "mimetype": "text/x-python",
   "name": "python",
   "nbconvert_exporter": "python",
   "pygments_lexer": "ipython3",
   "version": "3.7.3"
  }
 },
 "nbformat": 4,
 "nbformat_minor": 2
}
